{
 "cells": [
  {
   "cell_type": "code",
   "execution_count": null,
   "metadata": {},
   "outputs": [],
   "source": [
    "def vibrance(img, intensity):\n",
    "    '''\n",
    "    Increase or decrease the vibrance of an image, given the intensity specificication\n",
    "    \n",
    "    Input\n",
    "    ============\n",
    "    \n",
    "    img -- string of path for an image file in .jpg, .jpeg, .png, .tiff format\n",
    "    intensity -- integer in range [-10,10] to specificy intensity of vibrance applied to image\n",
    "    \n",
    "    Returns\n",
    "    ============\n",
    "    \n",
    "    an image file in .jpg, .jpeg, .png, .tiff format with specified vibrance\n",
    "    '''\n"
   ]
  }
 ],
 "metadata": {
  "kernelspec": {
   "display_name": "Python 3",
   "language": "python",
   "name": "python3"
  },
  "language_info": {
   "codemirror_mode": {
    "name": "ipython",
    "version": 3
   },
   "file_extension": ".py",
   "mimetype": "text/x-python",
   "name": "python",
   "nbconvert_exporter": "python",
   "pygments_lexer": "ipython3",
   "version": "3.6.8"
  }
 },
 "nbformat": 4,
 "nbformat_minor": 2
}
